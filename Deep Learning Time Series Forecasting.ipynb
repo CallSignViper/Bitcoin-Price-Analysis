{
 "cells": [
  {
   "cell_type": "markdown",
   "metadata": {},
   "source": [
    "Deep Learning for Time Series Forecasting"
   ]
  },
  {
   "cell_type": "code",
   "execution_count": 1,
   "metadata": {},
   "outputs": [
    {
     "name": "stderr",
     "output_type": "stream",
     "text": [
      "C:\\Users\\rpark.CVC\\AppData\\Local\\Continuum\\anaconda3\\lib\\site-packages\\h5py\\__init__.py:34: FutureWarning: Conversion of the second argument of issubdtype from `float` to `np.floating` is deprecated. In future, it will be treated as `np.float64 == np.dtype(float).type`.\n",
      "  from ._conv import register_converters as _register_converters\n",
      "Using TensorFlow backend.\n",
      "ERROR:root:Line magic function `%matplotibline` not found.\n"
     ]
    }
   ],
   "source": [
    "import keras\n",
    "import matplotlib.pyplot as plt\n",
    "import pandas as pd\n",
    "import numpy as np\n",
    "%matplotibline"
   ]
  },
  {
   "cell_type": "code",
   "execution_count": 2,
   "metadata": {},
   "outputs": [],
   "source": [
    "# y = mx + b +noise\n",
    "%matplotlib inline"
   ]
  },
  {
   "cell_type": "code",
   "execution_count": 3,
   "metadata": {},
   "outputs": [],
   "source": [
    "m=2\n",
    "b=3\n",
    "x=np.linspace(0,50,100)"
   ]
  },
  {
   "cell_type": "code",
   "execution_count": 4,
   "metadata": {},
   "outputs": [],
   "source": [
    "np.random.seed(101)\n",
    "noise = np.random.normal(loc=0,scale=4,size=len(x))"
   ]
  },
  {
   "cell_type": "code",
   "execution_count": 5,
   "metadata": {},
   "outputs": [],
   "source": [
    "y = 2*x+b+noise"
   ]
  },
  {
   "cell_type": "code",
   "execution_count": 6,
   "metadata": {},
   "outputs": [
    {
     "data": {
      "text/plain": [
       "[<matplotlib.lines.Line2D at 0x137a4bcc780>]"
      ]
     },
     "execution_count": 6,
     "metadata": {},
     "output_type": "execute_result"
    },
    {
     "data": {
      "image/png": "[encoded data removed]",
      "text/plain": [
       "<matplotlib.figure.Figure at 0x137a2b6a240>"
      ]
     },
     "metadata": {},
     "output_type": "display_data"
    }
   ],
   "source": [
    "plt.plot(x,y,'*')"
   ]
  },
  {
   "cell_type": "code",
   "execution_count": 7,
   "metadata": {},
   "outputs": [],
   "source": [
    "from keras.models import Sequential"
   ]
  },
  {
   "cell_type": "code",
   "execution_count": 8,
   "metadata": {},
   "outputs": [],
   "source": [
    "from keras.layers import Dense"
   ]
  },
  {
   "cell_type": "code",
   "execution_count": 9,
   "metadata": {},
   "outputs": [
    {
     "name": "stdout",
     "output_type": "stream",
     "text": [
      "WARNING:tensorflow:From C:\\Users\\rpark.CVC\\AppData\\Local\\Continuum\\anaconda3\\lib\\site-packages\\tensorflow\\python\\framework\\op_def_library.py:263: colocate_with (from tensorflow.python.framework.ops) is deprecated and will be removed in a future version.\n",
      "Instructions for updating:\n",
      "Colocations handled automatically by placer.\n"
     ]
    },
    {
     "name": "stderr",
     "output_type": "stream",
     "text": [
      "WARNING:tensorflow:From C:\\Users\\rpark.CVC\\AppData\\Local\\Continuum\\anaconda3\\lib\\site-packages\\tensorflow\\python\\framework\\op_def_library.py:263: colocate_with (from tensorflow.python.framework.ops) is deprecated and will be removed in a future version.\n",
      "Instructions for updating:\n",
      "Colocations handled automatically by placer.\n"
     ]
    }
   ],
   "source": [
    "model = Sequential()\n",
    "\n",
    "model.add(Dense(units=4,input_dim=1,activation='relu'))\n",
    "\n",
    "model.add(Dense(4,activation='relu'))\n",
    "\n",
    "model.add(Dense(1,activation='linear'))\n",
    "\n",
    "model.compile(loss='mse',optimizer='adam')"
   ]
  },
  {
   "cell_type": "code",
   "execution_count": 10,
   "metadata": {},
   "outputs": [
    {
     "name": "stdout",
     "output_type": "stream",
     "text": [
      "_________________________________________________________________\n",
      "Layer (type)                 Output Shape              Param #   \n",
      "=================================================================\n",
      "dense_1 (Dense)              (None, 4)                 8         \n",
      "_________________________________________________________________\n",
      "dense_2 (Dense)              (None, 4)                 20        \n",
      "_________________________________________________________________\n",
      "dense_3 (Dense)              (None, 1)                 5         \n",
      "=================================================================\n",
      "Total params: 33\n",
      "Trainable params: 33\n",
      "Non-trainable params: 0\n",
      "_________________________________________________________________\n"
     ]
    }
   ],
   "source": [
    "model.summary()"
   ]
  },
  {
   "cell_type": "code",
   "execution_count": 11,
   "metadata": {},
   "outputs": [
    {
     "name": "stdout",
     "output_type": "stream",
     "text": [
      "WARNING:tensorflow:From C:\\Users\\rpark.CVC\\AppData\\Local\\Continuum\\anaconda3\\lib\\site-packages\\tensorflow\\python\\ops\\math_ops.py:3066: to_int32 (from tensorflow.python.ops.math_ops) is deprecated and will be removed in a future version.\n",
      "Instructions for updating:\n",
      "Use tf.cast instead.\n"
     ]
    },
    {
     "name": "stderr",
     "output_type": "stream",
     "text": [
      "WARNING:tensorflow:From C:\\Users\\rpark.CVC\\AppData\\Local\\Continuum\\anaconda3\\lib\\site-packages\\tensorflow\\python\\ops\\math_ops.py:3066: to_int32 (from tensorflow.python.ops.math_ops) is deprecated and will be removed in a future version.\n",
      "Instructions for updating:\n",
      "Use tf.cast instead.\n"
     ]
    },
    {
     "name": "stdout",
     "output_type": "stream",
     "text": [
      "Epoch 1/200\n",
      "100/100 [==============================] - 0s 2ms/step - loss: 3628.2798\n",
      "Epoch 2/200\n",
      "100/100 [==============================] - 0s 65us/step - loss: 3621.1557\n",
      "Epoch 3/200\n",
      "100/100 [==============================] - 0s 80us/step - loss: 3613.3186\n",
      "Epoch 4/200\n",
      "100/100 [==============================] - 0s 70us/step - loss: 3605.1815\n",
      "Epoch 5/200\n",
      "100/100 [==============================] - 0s 70us/step - loss: 3597.2450\n",
      "Epoch 6/200\n",
      "100/100 [==============================] - 0s 60us/step - loss: 3588.2566\n",
      "Epoch 7/200\n",
      "100/100 [==============================] - 0s 75us/step - loss: 3579.2989\n",
      "Epoch 8/200\n",
      "100/100 [==============================] - 0s 55us/step - loss: 3570.4000\n",
      "Epoch 9/200\n",
      "100/100 [==============================] - 0s 115us/step - loss: 3561.1205\n",
      "Epoch 10/200\n",
      "100/100 [==============================] - 0s 85us/step - loss: 3551.3290\n",
      "Epoch 11/200\n",
      "100/100 [==============================] - 0s 75us/step - loss: 3541.6582\n",
      "Epoch 12/200\n",
      "100/100 [==============================] - 0s 135us/step - loss: 3530.9412\n",
      "Epoch 13/200\n",
      "100/100 [==============================] - 0s 105us/step - loss: 3520.1815\n",
      "Epoch 14/200\n",
      "100/100 [==============================] - 0s 75us/step - loss: 3510.0030\n",
      "Epoch 15/200\n",
      "100/100 [==============================] - 0s 85us/step - loss: 3499.3728\n",
      "Epoch 16/200\n",
      "100/100 [==============================] - 0s 85us/step - loss: 3487.7304\n",
      "Epoch 17/200\n",
      "100/100 [==============================] - 0s 80us/step - loss: 3476.5750\n",
      "Epoch 18/200\n",
      "100/100 [==============================] - 0s 90us/step - loss: 3464.7932\n",
      "Epoch 19/200\n",
      "100/100 [==============================] - 0s 60us/step - loss: 3452.1172\n",
      "Epoch 20/200\n",
      "100/100 [==============================] - 0s 90us/step - loss: 3438.8748\n",
      "Epoch 21/200\n",
      "100/100 [==============================] - 0s 75us/step - loss: 3426.4477\n",
      "Epoch 22/200\n",
      "100/100 [==============================] - 0s 80us/step - loss: 3411.9344\n",
      "Epoch 23/200\n",
      "100/100 [==============================] - 0s 70us/step - loss: 3397.4478\n",
      "Epoch 24/200\n",
      "100/100 [==============================] - 0s 75us/step - loss: 3383.2296\n",
      "Epoch 25/200\n",
      "100/100 [==============================] - 0s 60us/step - loss: 3368.1756\n",
      "Epoch 26/200\n",
      "100/100 [==============================] - 0s 65us/step - loss: 3352.8930\n",
      "Epoch 27/200\n",
      "100/100 [==============================] - 0s 80us/step - loss: 3337.4757\n",
      "Epoch 28/200\n",
      "100/100 [==============================] - 0s 100us/step - loss: 3321.3019\n",
      "Epoch 29/200\n",
      "100/100 [==============================] - 0s 95us/step - loss: 3304.3658\n",
      "Epoch 30/200\n",
      "100/100 [==============================] - 0s 75us/step - loss: 3288.4282\n",
      "Epoch 31/200\n",
      "100/100 [==============================] - 0s 65us/step - loss: 3271.3777\n",
      "Epoch 32/200\n",
      "100/100 [==============================] - 0s 110us/step - loss: 3253.8999\n",
      "Epoch 33/200\n",
      "100/100 [==============================] - 0s 70us/step - loss: 3235.6975\n",
      "Epoch 34/200\n",
      "100/100 [==============================] - 0s 90us/step - loss: 3218.5716\n",
      "Epoch 35/200\n",
      "100/100 [==============================] - 0s 115us/step - loss: 3200.2036\n",
      "Epoch 36/200\n",
      "100/100 [==============================] - 0s 120us/step - loss: 3181.4408\n",
      "Epoch 37/200\n",
      "100/100 [==============================] - 0s 90us/step - loss: 3162.9894\n",
      "Epoch 38/200\n",
      "100/100 [==============================] - 0s 85us/step - loss: 3143.2959\n",
      "Epoch 39/200\n",
      "100/100 [==============================] - 0s 100us/step - loss: 3124.2546\n",
      "Epoch 40/200\n",
      "100/100 [==============================] - 0s 80us/step - loss: 3105.0324\n",
      "Epoch 41/200\n",
      "100/100 [==============================] - 0s 80us/step - loss: 3083.8926\n",
      "Epoch 42/200\n",
      "100/100 [==============================] - 0s 65us/step - loss: 3062.0213\n",
      "Epoch 43/200\n",
      "100/100 [==============================] - 0s 100us/step - loss: 3041.2614\n",
      "Epoch 44/200\n",
      "100/100 [==============================] - 0s 75us/step - loss: 3018.8288\n",
      "Epoch 45/200\n",
      "100/100 [==============================] - 0s 70us/step - loss: 2997.2731\n",
      "Epoch 46/200\n",
      "100/100 [==============================] - 0s 95us/step - loss: 2973.0036\n",
      "Epoch 47/200\n",
      "100/100 [==============================] - 0s 55us/step - loss: 2951.3277\n",
      "Epoch 48/200\n",
      "100/100 [==============================] - 0s 110us/step - loss: 2928.2431\n",
      "Epoch 49/200\n",
      "100/100 [==============================] - 0s 80us/step - loss: 2905.3922\n",
      "Epoch 50/200\n",
      "100/100 [==============================] - 0s 65us/step - loss: 2881.4013\n",
      "Epoch 51/200\n",
      "100/100 [==============================] - 0s 75us/step - loss: 2857.7855\n",
      "Epoch 52/200\n",
      "100/100 [==============================] - 0s 85us/step - loss: 2832.4911\n",
      "Epoch 53/200\n",
      "100/100 [==============================] - 0s 90us/step - loss: 2807.2440\n",
      "Epoch 54/200\n",
      "100/100 [==============================] - 0s 85us/step - loss: 2782.0538\n",
      "Epoch 55/200\n",
      "100/100 [==============================] - 0s 70us/step - loss: 2754.9497\n",
      "Epoch 56/200\n",
      "100/100 [==============================] - 0s 85us/step - loss: 2728.7451\n",
      "Epoch 57/200\n",
      "100/100 [==============================] - ETA: 0s - loss: 3621.02 - 0s 70us/step - loss: 2703.0319\n",
      "Epoch 58/200\n",
      "100/100 [==============================] - 0s 80us/step - loss: 2674.2741\n",
      "Epoch 59/200\n",
      "100/100 [==============================] - 0s 65us/step - loss: 2647.7414\n",
      "Epoch 60/200\n",
      "100/100 [==============================] - 0s 261us/step - loss: 2618.4823\n",
      "Epoch 61/200\n",
      "100/100 [==============================] - ETA: 0s - loss: 2397.75 - 0s 120us/step - loss: 2590.2212\n",
      "Epoch 62/200\n",
      "100/100 [==============================] - 0s 75us/step - loss: 2561.7990\n",
      "Epoch 63/200\n",
      "100/100 [==============================] - 0s 115us/step - loss: 2534.7209\n",
      "Epoch 64/200\n",
      "100/100 [==============================] - 0s 70us/step - loss: 2505.6120\n",
      "Epoch 65/200\n",
      "100/100 [==============================] - 0s 85us/step - loss: 2476.8121\n",
      "Epoch 66/200\n",
      "100/100 [==============================] - 0s 60us/step - loss: 2447.1006\n",
      "Epoch 67/200\n",
      "100/100 [==============================] - 0s 90us/step - loss: 2417.8735\n",
      "Epoch 68/200\n",
      "100/100 [==============================] - 0s 60us/step - loss: 2388.6711\n",
      "Epoch 69/200\n",
      "100/100 [==============================] - 0s 75us/step - loss: 2358.6822\n",
      "Epoch 70/200\n",
      "100/100 [==============================] - 0s 70us/step - loss: 2328.6029\n",
      "Epoch 71/200\n",
      "100/100 [==============================] - 0s 85us/step - loss: 2298.1469\n",
      "Epoch 72/200\n",
      "100/100 [==============================] - 0s 70us/step - loss: 2266.0059\n",
      "Epoch 73/200\n",
      "100/100 [==============================] - 0s 130us/step - loss: 2232.6792\n",
      "Epoch 74/200\n",
      "100/100 [==============================] - 0s 80us/step - loss: 2199.4602\n",
      "Epoch 75/200\n",
      "100/100 [==============================] - 0s 70us/step - loss: 2165.7330\n",
      "Epoch 76/200\n",
      "100/100 [==============================] - 0s 90us/step - loss: 2132.2355\n",
      "Epoch 77/200\n",
      "100/100 [==============================] - 0s 75us/step - loss: 2101.6804\n",
      "Epoch 78/200\n",
      "100/100 [==============================] - 0s 70us/step - loss: 2068.0076\n",
      "Epoch 79/200\n",
      "100/100 [==============================] - 0s 80us/step - loss: 2036.3600\n",
      "Epoch 80/200\n",
      "100/100 [==============================] - 0s 70us/step - loss: 2003.2481\n",
      "Epoch 81/200\n",
      "100/100 [==============================] - 0s 85us/step - loss: 1971.5001\n",
      "Epoch 82/200\n",
      "100/100 [==============================] - 0s 65us/step - loss: 1936.5426\n",
      "Epoch 83/200\n",
      "100/100 [==============================] - 0s 80us/step - loss: 1901.9329\n",
      "Epoch 84/200\n",
      "100/100 [==============================] - 0s 105us/step - loss: 1866.1453\n",
      "Epoch 85/200\n",
      "100/100 [==============================] - 0s 75us/step - loss: 1831.9630\n",
      "Epoch 86/200\n",
      "100/100 [==============================] - 0s 110us/step - loss: 1797.0958\n",
      "Epoch 87/200\n",
      "100/100 [==============================] - 0s 70us/step - loss: 1762.4028\n",
      "Epoch 88/200\n",
      "100/100 [==============================] - 0s 85us/step - loss: 1729.7940\n",
      "Epoch 89/200\n",
      "100/100 [==============================] - 0s 60us/step - loss: 1695.0031\n",
      "Epoch 90/200\n",
      "100/100 [==============================] - 0s 70us/step - loss: 1662.4694\n",
      "Epoch 91/200\n",
      "100/100 [==============================] - 0s 65us/step - loss: 1627.9350\n",
      "Epoch 92/200\n",
      "100/100 [==============================] - 0s 65us/step - loss: 1593.6111\n",
      "Epoch 93/200\n",
      "100/100 [==============================] - 0s 85us/step - loss: 1559.3852\n",
      "Epoch 94/200\n"
     ]
    },
    {
     "name": "stdout",
     "output_type": "stream",
     "text": [
      "100/100 [==============================] - 0s 70us/step - loss: 1525.7417\n",
      "Epoch 95/200\n",
      "100/100 [==============================] - 0s 90us/step - loss: 1493.6641\n",
      "Epoch 96/200\n",
      "100/100 [==============================] - 0s 60us/step - loss: 1459.2820\n",
      "Epoch 97/200\n",
      "100/100 [==============================] - 0s 90us/step - loss: 1427.2997\n",
      "Epoch 98/200\n",
      "100/100 [==============================] - 0s 95us/step - loss: 1395.5718\n",
      "Epoch 99/200\n",
      "100/100 [==============================] - 0s 90us/step - loss: 1363.2106\n",
      "Epoch 100/200\n",
      "100/100 [==============================] - 0s 95us/step - loss: 1329.9276\n",
      "Epoch 101/200\n",
      "100/100 [==============================] - 0s 65us/step - loss: 1297.2529\n",
      "Epoch 102/200\n",
      "100/100 [==============================] - 0s 95us/step - loss: 1266.4281\n",
      "Epoch 103/200\n",
      "100/100 [==============================] - 0s 85us/step - loss: 1233.9971\n",
      "Epoch 104/200\n",
      "100/100 [==============================] - 0s 65us/step - loss: 1203.0152\n",
      "Epoch 105/200\n",
      "100/100 [==============================] - 0s 75us/step - loss: 1170.9180\n",
      "Epoch 106/200\n",
      "100/100 [==============================] - 0s 70us/step - loss: 1140.6018\n",
      "Epoch 107/200\n",
      "100/100 [==============================] - 0s 80us/step - loss: 1111.4349\n",
      "Epoch 108/200\n",
      "100/100 [==============================] - 0s 75us/step - loss: 1081.8834\n",
      "Epoch 109/200\n",
      "100/100 [==============================] - 0s 75us/step - loss: 1054.8190\n",
      "Epoch 110/200\n",
      "100/100 [==============================] - 0s 80us/step - loss: 1025.9901\n",
      "Epoch 111/200\n",
      "100/100 [==============================] - 0s 110us/step - loss: 997.1508\n",
      "Epoch 112/200\n",
      "100/100 [==============================] - 0s 70us/step - loss: 969.6769\n",
      "Epoch 113/200\n",
      "100/100 [==============================] - 0s 60us/step - loss: 940.4851\n",
      "Epoch 114/200\n",
      "100/100 [==============================] - 0s 80us/step - loss: 912.4887\n",
      "Epoch 115/200\n",
      "100/100 [==============================] - 0s 65us/step - loss: 885.1087\n",
      "Epoch 116/200\n",
      "100/100 [==============================] - 0s 85us/step - loss: 856.2502\n",
      "Epoch 117/200\n",
      "100/100 [==============================] - 0s 70us/step - loss: 828.5287\n",
      "Epoch 118/200\n",
      "100/100 [==============================] - 0s 85us/step - loss: 801.4923\n",
      "Epoch 119/200\n",
      "100/100 [==============================] - 0s 75us/step - loss: 775.4086\n",
      "Epoch 120/200\n",
      "100/100 [==============================] - 0s 70us/step - loss: 747.7148\n",
      "Epoch 121/200\n",
      "100/100 [==============================] - 0s 80us/step - loss: 720.0991\n",
      "Epoch 122/200\n",
      "100/100 [==============================] - 0s 60us/step - loss: 692.4264\n",
      "Epoch 123/200\n",
      "100/100 [==============================] - 0s 65us/step - loss: 666.8140\n",
      "Epoch 124/200\n",
      "100/100 [==============================] - 0s 55us/step - loss: 641.2992\n",
      "Epoch 125/200\n",
      "100/100 [==============================] - 0s 70us/step - loss: 616.6084\n",
      "Epoch 126/200\n",
      "100/100 [==============================] - 0s 60us/step - loss: 591.2099\n",
      "Epoch 127/200\n",
      "100/100 [==============================] - 0s 60us/step - loss: 566.8125\n",
      "Epoch 128/200\n",
      "100/100 [==============================] - 0s 65us/step - loss: 543.8591\n",
      "Epoch 129/200\n",
      "100/100 [==============================] - 0s 70us/step - loss: 521.7019\n",
      "Epoch 130/200\n",
      "100/100 [==============================] - 0s 65us/step - loss: 500.3476\n",
      "Epoch 131/200\n",
      "100/100 [==============================] - 0s 65us/step - loss: 480.4633\n",
      "Epoch 132/200\n",
      "100/100 [==============================] - 0s 65us/step - loss: 461.4332\n",
      "Epoch 133/200\n",
      "100/100 [==============================] - 0s 65us/step - loss: 441.9634\n",
      "Epoch 134/200\n",
      "100/100 [==============================] - 0s 65us/step - loss: 423.3037\n",
      "Epoch 135/200\n",
      "100/100 [==============================] - 0s 70us/step - loss: 404.7210\n",
      "Epoch 136/200\n",
      "100/100 [==============================] - 0s 75us/step - loss: 387.1352\n",
      "Epoch 137/200\n",
      "100/100 [==============================] - 0s 70us/step - loss: 370.1481\n",
      "Epoch 138/200\n",
      "100/100 [==============================] - 0s 60us/step - loss: 352.6697\n",
      "Epoch 139/200\n",
      "100/100 [==============================] - 0s 65us/step - loss: 336.6397\n",
      "Epoch 140/200\n",
      "100/100 [==============================] - 0s 60us/step - loss: 321.6883\n",
      "Epoch 141/200\n",
      "100/100 [==============================] - 0s 70us/step - loss: 308.1386\n",
      "Epoch 142/200\n",
      "100/100 [==============================] - 0s 85us/step - loss: 294.8056\n",
      "Epoch 143/200\n",
      "100/100 [==============================] - 0s 75us/step - loss: 282.2542\n",
      "Epoch 144/200\n",
      "100/100 [==============================] - 0s 70us/step - loss: 269.5614\n",
      "Epoch 145/200\n",
      "100/100 [==============================] - 0s 70us/step - loss: 258.3817\n",
      "Epoch 146/200\n",
      "100/100 [==============================] - 0s 75us/step - loss: 246.6221\n",
      "Epoch 147/200\n",
      "100/100 [==============================] - 0s 70us/step - loss: 234.5610\n",
      "Epoch 148/200\n",
      "100/100 [==============================] - 0s 65us/step - loss: 222.8177\n",
      "Epoch 149/200\n",
      "100/100 [==============================] - 0s 65us/step - loss: 211.9407\n",
      "Epoch 150/200\n",
      "100/100 [==============================] - 0s 65us/step - loss: 201.1197\n",
      "Epoch 151/200\n",
      "100/100 [==============================] - 0s 70us/step - loss: 190.5674\n",
      "Epoch 152/200\n",
      "100/100 [==============================] - 0s 65us/step - loss: 180.4785\n",
      "Epoch 153/200\n",
      "100/100 [==============================] - 0s 65us/step - loss: 171.5077\n",
      "Epoch 154/200\n",
      "100/100 [==============================] - 0s 75us/step - loss: 163.4017\n",
      "Epoch 155/200\n",
      "100/100 [==============================] - 0s 75us/step - loss: 155.3040\n",
      "Epoch 156/200\n",
      "100/100 [==============================] - 0s 70us/step - loss: 147.7972\n",
      "Epoch 157/200\n",
      "100/100 [==============================] - 0s 75us/step - loss: 140.4341\n",
      "Epoch 158/200\n",
      "100/100 [==============================] - 0s 65us/step - loss: 133.8715\n",
      "Epoch 159/200\n",
      "100/100 [==============================] - 0s 75us/step - loss: 127.4455\n",
      "Epoch 160/200\n",
      "100/100 [==============================] - 0s 80us/step - loss: 121.1934\n",
      "Epoch 161/200\n",
      "100/100 [==============================] - 0s 70us/step - loss: 114.7330\n",
      "Epoch 162/200\n",
      "100/100 [==============================] - 0s 80us/step - loss: 108.7345\n",
      "Epoch 163/200\n",
      "100/100 [==============================] - 0s 80us/step - loss: 103.0706\n",
      "Epoch 164/200\n",
      "100/100 [==============================] - 0s 80us/step - loss: 97.4799\n",
      "Epoch 165/200\n",
      "100/100 [==============================] - 0s 70us/step - loss: 92.2006\n",
      "Epoch 166/200\n",
      "100/100 [==============================] - 0s 70us/step - loss: 87.6008\n",
      "Epoch 167/200\n",
      "100/100 [==============================] - 0s 70us/step - loss: 82.8996\n",
      "Epoch 168/200\n",
      "100/100 [==============================] - 0s 80us/step - loss: 78.5256\n",
      "Epoch 169/200\n",
      "100/100 [==============================] - 0s 75us/step - loss: 74.2880\n",
      "Epoch 170/200\n",
      "100/100 [==============================] - 0s 75us/step - loss: 70.2894\n",
      "Epoch 171/200\n",
      "100/100 [==============================] - 0s 65us/step - loss: 66.5513\n",
      "Epoch 172/200\n",
      "100/100 [==============================] - 0s 70us/step - loss: 63.1705\n",
      "Epoch 173/200\n",
      "100/100 [==============================] - 0s 65us/step - loss: 59.6854\n",
      "Epoch 174/200\n",
      "100/100 [==============================] - 0s 80us/step - loss: 56.6270\n",
      "Epoch 175/200\n",
      "100/100 [==============================] - 0s 70us/step - loss: 53.6247\n",
      "Epoch 176/200\n",
      "100/100 [==============================] - 0s 75us/step - loss: 50.8370\n",
      "Epoch 177/200\n",
      "100/100 [==============================] - 0s 60us/step - loss: 48.2086\n",
      "Epoch 178/200\n",
      "100/100 [==============================] - 0s 70us/step - loss: 45.9664\n",
      "Epoch 179/200\n",
      "100/100 [==============================] - 0s 65us/step - loss: 43.7947\n",
      "Epoch 180/200\n",
      "100/100 [==============================] - 0s 75us/step - loss: 41.9346\n",
      "Epoch 181/200\n",
      "100/100 [==============================] - 0s 60us/step - loss: 40.0277\n",
      "Epoch 182/200\n",
      "100/100 [==============================] - 0s 75us/step - loss: 38.2863\n",
      "Epoch 183/200\n",
      "100/100 [==============================] - 0s 65us/step - loss: 36.6784\n",
      "Epoch 184/200\n",
      "100/100 [==============================] - 0s 70us/step - loss: 35.2041\n",
      "Epoch 185/200\n",
      "100/100 [==============================] - 0s 65us/step - loss: 33.7860\n",
      "Epoch 186/200\n",
      "100/100 [==============================] - 0s 80us/step - loss: 32.5681\n",
      "Epoch 187/200\n",
      "100/100 [==============================] - 0s 70us/step - loss: 31.4532\n",
      "Epoch 188/200\n"
     ]
    },
    {
     "name": "stdout",
     "output_type": "stream",
     "text": [
      "100/100 [==============================] - 0s 75us/step - loss: 30.4296\n",
      "Epoch 189/200\n",
      "100/100 [==============================] - 0s 70us/step - loss: 29.4813\n",
      "Epoch 190/200\n",
      "100/100 [==============================] - 0s 70us/step - loss: 28.5548\n",
      "Epoch 191/200\n",
      "100/100 [==============================] - 0s 75us/step - loss: 27.7211\n",
      "Epoch 192/200\n",
      "100/100 [==============================] - 0s 75us/step - loss: 26.9310\n",
      "Epoch 193/200\n",
      "100/100 [==============================] - 0s 65us/step - loss: 26.1220\n",
      "Epoch 194/200\n",
      "100/100 [==============================] - 0s 70us/step - loss: 25.3840\n",
      "Epoch 195/200\n",
      "100/100 [==============================] - 0s 70us/step - loss: 24.7075\n",
      "Epoch 196/200\n",
      "100/100 [==============================] - 0s 60us/step - loss: 24.1154\n",
      "Epoch 197/200\n",
      "100/100 [==============================] - 0s 75us/step - loss: 23.5791\n",
      "Epoch 198/200\n",
      "100/100 [==============================] - 0s 65us/step - loss: 23.0784\n",
      "Epoch 199/200\n",
      "100/100 [==============================] - 0s 75us/step - loss: 22.6724\n",
      "Epoch 200/200\n",
      "100/100 [==============================] - 0s 65us/step - loss: 22.3043\n"
     ]
    },
    {
     "data": {
      "text/plain": [
       "<keras.callbacks.History at 0x137a4d19390>"
      ]
     },
     "execution_count": 11,
     "metadata": {},
     "output_type": "execute_result"
    }
   ],
   "source": [
    "model.fit(x,y,epochs=200)"
   ]
  },
  {
   "cell_type": "code",
   "execution_count": 12,
   "metadata": {},
   "outputs": [],
   "source": [
    "#model.history.history['loss']"
   ]
  },
  {
   "cell_type": "code",
   "execution_count": 13,
   "metadata": {},
   "outputs": [
    {
     "data": {
      "text/plain": [
       "[<matplotlib.lines.Line2D at 0x137a6215cf8>]"
      ]
     },
     "execution_count": 13,
     "metadata": {},
     "output_type": "execute_result"
    },
    {
     "data": {
      "image/png": "[encoded data removed]",
      "text/plain": [
       "<matplotlib.figure.Figure at 0x137a51f1eb8>"
      ]
     },
     "metadata": {},
     "output_type": "display_data"
    }
   ],
   "source": [
    "loss = model.history.history['loss']\n",
    "epochs = range(len(loss))\n",
    "plt.plot(epochs,loss)"
   ]
  },
  {
   "cell_type": "code",
   "execution_count": 14,
   "metadata": {},
   "outputs": [],
   "source": [
    "x_for_predictions = np.linspace(0,50,100)\n",
    "y_pred = model.predict(x_for_predictions)"
   ]
  },
  {
   "cell_type": "code",
   "execution_count": 15,
   "metadata": {},
   "outputs": [
    {
     "data": {
      "text/plain": [
       "[<matplotlib.lines.Line2D at 0x137a51f1f60>]"
      ]
     },
     "execution_count": 15,
     "metadata": {},
     "output_type": "execute_result"
    },
    {
     "data": {
      "image/png": "[encoded data removed]",
      "text/plain": [
       "<matplotlib.figure.Figure at 0x137a51f1a58>"
      ]
     },
     "metadata": {},
     "output_type": "display_data"
    }
   ],
   "source": [
    "plt.plot(x,y,'*')\n",
    "plt.plot(x_for_predictions,'r')"
   ]
  },
  {
   "cell_type": "code",
   "execution_count": 16,
   "metadata": {},
   "outputs": [],
   "source": [
    "from sklearn.metrics import mean_squared_error"
   ]
  },
  {
   "cell_type": "code",
   "execution_count": 17,
   "metadata": {},
   "outputs": [
    {
     "data": {
      "text/plain": [
       "22.01765507524781"
      ]
     },
     "execution_count": 17,
     "metadata": {},
     "output_type": "execute_result"
    }
   ],
   "source": [
    "mean_squared_error(y,y_pred)"
   ]
  },
  {
   "cell_type": "markdown",
   "metadata": {},
   "source": [
    "Recurrent Neural Networks Theory"
   ]
  },
  {
   "cell_type": "code",
   "execution_count": 18,
   "metadata": {},
   "outputs": [],
   "source": [
    "btc = pd.read_html('https://coinmarketcap.com/currencies/bitcoin/historical-data/?start=20130428&end=20190523')"
   ]
  },
  {
   "cell_type": "code",
   "execution_count": 19,
   "metadata": {},
   "outputs": [],
   "source": [
    "btc = btc[0]"
   ]
  },
  {
   "cell_type": "code",
   "execution_count": 20,
   "metadata": {},
   "outputs": [],
   "source": [
    "dates = btc['Date']"
   ]
  },
  {
   "cell_type": "code",
   "execution_count": 21,
   "metadata": {},
   "outputs": [],
   "source": [
    "dates = pd.to_datetime(dates)"
   ]
  },
  {
   "cell_type": "code",
   "execution_count": 22,
   "metadata": {},
   "outputs": [],
   "source": [
    "btc.drop(labels='Date',axis=1,inplace=True)"
   ]
  },
  {
   "cell_type": "code",
   "execution_count": 23,
   "metadata": {},
   "outputs": [],
   "source": [
    "btc['Date'] = dates"
   ]
  },
  {
   "cell_type": "code",
   "execution_count": 24,
   "metadata": {},
   "outputs": [],
   "source": [
    "btc.set_index(keys='Date',inplace=True)"
   ]
  },
  {
   "cell_type": "code",
   "execution_count": 25,
   "metadata": {},
   "outputs": [],
   "source": [
    "#btc = btc.sort_index(ascending=True)"
   ]
  },
  {
   "cell_type": "code",
   "execution_count": 26,
   "metadata": {},
   "outputs": [
    {
     "data": {
      "text/plain": [
       "<matplotlib.axes._subplots.AxesSubplot at 0x137a8d08668>"
      ]
     },
     "execution_count": 26,
     "metadata": {},
     "output_type": "execute_result"
    },
    {
     "data": {
      "image/png": "[encoded data removed]",
      "text/plain": [
       "<matplotlib.figure.Figure at 0x137a8ce1e48>"
      ]
     },
     "metadata": {},
     "output_type": "display_data"
    }
   ],
   "source": [
    "btc['Close**'].plot()"
   ]
  },
  {
   "cell_type": "code",
   "execution_count": 27,
   "metadata": {},
   "outputs": [],
   "source": [
    "from statsmodels.tsa.seasonal import seasonal_decompose"
   ]
  },
  {
   "cell_type": "code",
   "execution_count": 28,
   "metadata": {},
   "outputs": [],
   "source": [
    "close = seasonal_decompose(btc['Close**'])"
   ]
  },
  {
   "cell_type": "code",
   "execution_count": 29,
   "metadata": {},
   "outputs": [
    {
     "data": {
      "image/png": "[encoded data removed]",
      "text/plain": [
       "<matplotlib.figure.Figure at 0x137a8ce15f8>"
      ]
     },
     "metadata": {},
     "output_type": "display_data"
    }
   ],
   "source": [
    "close.plot();"
   ]
  },
  {
   "cell_type": "code",
   "execution_count": 30,
   "metadata": {},
   "outputs": [],
   "source": [
    "close_ = btc['Close**']"
   ]
  },
  {
   "cell_type": "code",
   "execution_count": 31,
   "metadata": {},
   "outputs": [],
   "source": [
    "btc = pd.DataFrame(data=close_)"
   ]
  },
  {
   "cell_type": "code",
   "execution_count": 32,
   "metadata": {},
   "outputs": [],
   "source": [
    "btc = btc.resample('MS').mean()"
   ]
  },
  {
   "cell_type": "code",
   "execution_count": 33,
   "metadata": {},
   "outputs": [
    {
     "data": {
      "text/plain": [
       "<matplotlib.axes._subplots.AxesSubplot at 0x137a8e54908>"
      ]
     },
     "execution_count": 33,
     "metadata": {},
     "output_type": "execute_result"
    },
    {
     "data": {
      "image/png": "[encoded data removed]",
      "text/plain": [
       "<matplotlib.figure.Figure at 0x137a9022588>"
      ]
     },
     "metadata": {},
     "output_type": "display_data"
    }
   ],
   "source": [
    "btc.plot()"
   ]
  },
  {
   "cell_type": "code",
   "execution_count": 34,
   "metadata": {},
   "outputs": [
    {
     "data": {
      "text/plain": [
       "74"
      ]
     },
     "execution_count": 34,
     "metadata": {},
     "output_type": "execute_result"
    }
   ],
   "source": [
    "len(btc)"
   ]
  },
  {
   "cell_type": "code",
   "execution_count": 35,
   "metadata": {},
   "outputs": [
    {
     "data": {
      "text/plain": [
       "59.2"
      ]
     },
     "execution_count": 35,
     "metadata": {},
     "output_type": "execute_result"
    }
   ],
   "source": [
    "74*.8"
   ]
  },
  {
   "cell_type": "code",
   "execution_count": 36,
   "metadata": {},
   "outputs": [],
   "source": [
    "train = btc.iloc[:len(btc)-60]\n",
    "test = btc.iloc[len(btc)-60:]"
   ]
  },
  {
   "cell_type": "code",
   "execution_count": 37,
   "metadata": {},
   "outputs": [],
   "source": [
    "# scale the data\n",
    "from sklearn.preprocessing import MinMaxScaler"
   ]
  },
  {
   "cell_type": "code",
   "execution_count": 38,
   "metadata": {},
   "outputs": [],
   "source": [
    "scaler = MinMaxScaler()"
   ]
  },
  {
   "cell_type": "code",
   "execution_count": 39,
   "metadata": {},
   "outputs": [
    {
     "data": {
      "text/plain": [
       "MinMaxScaler(copy=True, feature_range=(0, 1))"
      ]
     },
     "execution_count": 39,
     "metadata": {},
     "output_type": "execute_result"
    }
   ],
   "source": [
    "scaler.fit(train) # finds the max value"
   ]
  },
  {
   "cell_type": "code",
   "execution_count": 40,
   "metadata": {},
   "outputs": [],
   "source": [
    "scaled_train = scaler.transform(train)\n",
    "scaled_test = scaler.transform(test)"
   ]
  },
  {
   "cell_type": "code",
   "execution_count": 41,
   "metadata": {},
   "outputs": [],
   "source": [
    "from keras.preprocessing.sequence import TimeseriesGenerator"
   ]
  },
  {
   "cell_type": "code",
   "execution_count": 42,
   "metadata": {},
   "outputs": [
    {
     "data": {
      "text/plain": [
       "array([[0.06466841],\n",
       "       [0.03911641],\n",
       "       [0.0228872 ],\n",
       "       [0.        ],\n",
       "       [0.03103923]])"
      ]
     },
     "execution_count": 42,
     "metadata": {},
     "output_type": "execute_result"
    }
   ],
   "source": [
    "scaled_train[:5]"
   ]
  },
  {
   "cell_type": "code",
   "execution_count": 72,
   "metadata": {},
   "outputs": [],
   "source": [
    "n_input = 12\n",
    "n_features = 1\n",
    "\n",
    "generator  = TimeseriesGenerator(scaled_train,scaled_train,length=n_input,batch_size=1)"
   ]
  },
  {
   "cell_type": "code",
   "execution_count": 73,
   "metadata": {},
   "outputs": [
    {
     "data": {
      "text/plain": [
       "14"
      ]
     },
     "execution_count": 73,
     "metadata": {},
     "output_type": "execute_result"
    }
   ],
   "source": [
    "len(scaled_train)"
   ]
  },
  {
   "cell_type": "code",
   "execution_count": 74,
   "metadata": {},
   "outputs": [
    {
     "data": {
      "text/plain": [
       "2"
      ]
     },
     "execution_count": 74,
     "metadata": {},
     "output_type": "execute_result"
    }
   ],
   "source": [
    "len(generator)"
   ]
  },
  {
   "cell_type": "code",
   "execution_count": 75,
   "metadata": {},
   "outputs": [],
   "source": [
    "X,y = generator[0]"
   ]
  },
  {
   "cell_type": "code",
   "execution_count": 76,
   "metadata": {},
   "outputs": [
    {
     "data": {
      "text/plain": [
       "array([[[0.06466841],\n",
       "        [0.03911641],\n",
       "        [0.0228872 ],\n",
       "        [0.        ],\n",
       "        [0.03103923],\n",
       "        [0.05247673],\n",
       "        [0.08996102],\n",
       "        [0.61023641],\n",
       "        [0.94243075],\n",
       "        [1.        ],\n",
       "        [0.75778055],\n",
       "        [0.66567237]]])"
      ]
     },
     "execution_count": 76,
     "metadata": {},
     "output_type": "execute_result"
    }
   ],
   "source": [
    "X"
   ]
  },
  {
   "cell_type": "code",
   "execution_count": 77,
   "metadata": {},
   "outputs": [
    {
     "data": {
      "text/plain": [
       "array([[0.49206846]])"
      ]
     },
     "execution_count": 77,
     "metadata": {},
     "output_type": "execute_result"
    }
   ],
   "source": [
    "y"
   ]
  },
  {
   "cell_type": "code",
   "execution_count": 49,
   "metadata": {},
   "outputs": [],
   "source": [
    "from keras.models import Sequential\n",
    "from keras.layers import Dense\n",
    "from keras.layers import LSTM"
   ]
  },
  {
   "cell_type": "code",
   "execution_count": 78,
   "metadata": {},
   "outputs": [],
   "source": [
    "n_input = 12\n",
    "# how many columns equals below\n",
    "n_features = 1\n",
    "\n",
    "train_generator  = TimeseriesGenerator(scaled_train,scaled_train,length=n_input,batch_size=1)"
   ]
  },
  {
   "cell_type": "code",
   "execution_count": 79,
   "metadata": {},
   "outputs": [],
   "source": [
    "model = Sequential()\n",
    "\n",
    "model.add(LSTM(150,activation='relu',input_shape=(n_input,n_features)))\n",
    "model.add(Dense(1))\n",
    "model.compile(optimizer='adam',loss='mse')"
   ]
  },
  {
   "cell_type": "code",
   "execution_count": 80,
   "metadata": {},
   "outputs": [
    {
     "name": "stdout",
     "output_type": "stream",
     "text": [
      "_________________________________________________________________\n",
      "Layer (type)                 Output Shape              Param #   \n",
      "=================================================================\n",
      "lstm_2 (LSTM)                (None, 150)               91200     \n",
      "_________________________________________________________________\n",
      "dense_5 (Dense)              (None, 1)                 151       \n",
      "=================================================================\n",
      "Total params: 91,351\n",
      "Trainable params: 91,351\n",
      "Non-trainable params: 0\n",
      "_________________________________________________________________\n"
     ]
    }
   ],
   "source": [
    "model.summary()"
   ]
  },
  {
   "cell_type": "code",
   "execution_count": 81,
   "metadata": {},
   "outputs": [
    {
     "name": "stdout",
     "output_type": "stream",
     "text": [
      "Epoch 1/25\n",
      "2/2 [==============================] - 1s 485ms/step - loss: 0.2094\n",
      "Epoch 2/25\n",
      "2/2 [==============================] - 0s 28ms/step - loss: 0.1720\n",
      "Epoch 3/25\n",
      "2/2 [==============================] - 0s 49ms/step - loss: 0.1316\n",
      "Epoch 4/25\n",
      "2/2 [==============================] - 0s 52ms/step - loss: 0.0953\n",
      "Epoch 5/25\n",
      "2/2 [==============================] - 0s 49ms/step - loss: 0.0634\n",
      "Epoch 6/25\n",
      "2/2 [==============================] - 0s 52ms/step - loss: 0.0342\n",
      "Epoch 7/25\n",
      "2/2 [==============================] - 0s 50ms/step - loss: 0.0109\n",
      "Epoch 8/25\n",
      "2/2 [==============================] - 0s 54ms/step - loss: 0.0010\n",
      "Epoch 9/25\n",
      "2/2 [==============================] - 0s 49ms/step - loss: 0.0113\n",
      "Epoch 10/25\n",
      "2/2 [==============================] - 0s 61ms/step - loss: 0.0177\n",
      "Epoch 11/25\n",
      "2/2 [==============================] - 0s 48ms/step - loss: 0.0105\n",
      "Epoch 12/25\n",
      "2/2 [==============================] - 0s 56ms/step - loss: 0.0029\n",
      "Epoch 13/25\n",
      "2/2 [==============================] - 0s 52ms/step - loss: 3.1219e-04\n",
      "Epoch 14/25\n",
      "2/2 [==============================] - 0s 49ms/step - loss: 0.0012\n",
      "Epoch 15/25\n",
      "2/2 [==============================] - 0s 61ms/step - loss: 0.0028\n",
      "Epoch 16/25\n",
      "2/2 [==============================] - 0s 43ms/step - loss: 0.0036\n",
      "Epoch 17/25\n",
      "2/2 [==============================] - 0s 68ms/step - loss: 0.0034\n",
      "Epoch 18/25\n",
      "2/2 [==============================] - 0s 34ms/step - loss: 0.0024\n",
      "Epoch 19/25\n",
      "2/2 [==============================] - 0s 71ms/step - loss: 0.0012\n",
      "Epoch 20/25\n",
      "2/2 [==============================] - 0s 32ms/step - loss: 3.3953e-04\n",
      "Epoch 21/25\n",
      "2/2 [==============================] - 0s 63ms/step - loss: 1.5899e-04\n",
      "Epoch 22/25\n",
      "2/2 [==============================] - 0s 40ms/step - loss: 3.5196e-04\n",
      "Epoch 23/25\n",
      "2/2 [==============================] - 0s 64ms/step - loss: 6.8172e-04\n",
      "Epoch 24/25\n",
      "2/2 [==============================] - 0s 49ms/step - loss: 8.3865e-04\n",
      "Epoch 25/25\n",
      "2/2 [==============================] - 0s 43ms/step - loss: 6.3973e-04\n"
     ]
    },
    {
     "data": {
      "text/plain": [
       "<keras.callbacks.History at 0x137a8b7b320>"
      ]
     },
     "execution_count": 81,
     "metadata": {},
     "output_type": "execute_result"
    }
   ],
   "source": [
    "model.fit_generator(train_generator,epochs=25)"
   ]
  },
  {
   "cell_type": "code",
   "execution_count": 82,
   "metadata": {},
   "outputs": [
    {
     "data": {
      "text/plain": [
       "dict_keys(['loss'])"
      ]
     },
     "execution_count": 82,
     "metadata": {},
     "output_type": "execute_result"
    }
   ],
   "source": [
    "model.history.history.keys()"
   ]
  },
  {
   "cell_type": "code",
   "execution_count": 83,
   "metadata": {},
   "outputs": [
    {
     "data": {
      "text/plain": [
       "[<matplotlib.lines.Line2D at 0x137a7bb4668>]"
      ]
     },
     "execution_count": 83,
     "metadata": {},
     "output_type": "execute_result"
    },
    {
     "data": {
      "image/png": "[encoded data removed]",
      "text/plain": [
       "<matplotlib.figure.Figure at 0x137aa114a90>"
      ]
     },
     "metadata": {},
     "output_type": "display_data"
    }
   ],
   "source": [
    "myloss = model.history.history['loss']\n",
    "plt.plot(range(len(myloss)),myloss)"
   ]
  },
  {
   "cell_type": "code",
   "execution_count": 84,
   "metadata": {},
   "outputs": [],
   "source": [
    "first_eval_batch = scaled_train[-12:]"
   ]
  },
  {
   "cell_type": "code",
   "execution_count": 85,
   "metadata": {},
   "outputs": [
    {
     "data": {
      "text/plain": [
       "array([[0.0228872 ],\n",
       "       [0.        ],\n",
       "       [0.03103923],\n",
       "       [0.05247673],\n",
       "       [0.08996102],\n",
       "       [0.61023641],\n",
       "       [0.94243075],\n",
       "       [1.        ],\n",
       "       [0.75778055],\n",
       "       [0.66567237],\n",
       "       [0.49206846],\n",
       "       [0.52562305]])"
      ]
     },
     "execution_count": 85,
     "metadata": {},
     "output_type": "execute_result"
    }
   ],
   "source": [
    "first_eval_batch"
   ]
  },
  {
   "cell_type": "code",
   "execution_count": 86,
   "metadata": {},
   "outputs": [],
   "source": [
    "first_eval = first_eval_batch.reshape((1,n_input,n_features))"
   ]
  },
  {
   "cell_type": "code",
   "execution_count": 87,
   "metadata": {},
   "outputs": [
    {
     "data": {
      "text/plain": [
       "array([[0.55772734]], dtype=float32)"
      ]
     },
     "execution_count": 87,
     "metadata": {},
     "output_type": "execute_result"
    }
   ],
   "source": [
    "model.predict(first_eval)"
   ]
  },
  {
   "cell_type": "markdown",
   "metadata": {},
   "source": [
    "Forecast using Trained RNN model"
   ]
  },
  {
   "cell_type": "code",
   "execution_count": 88,
   "metadata": {},
   "outputs": [],
   "source": [
    "#hold predictions\n",
    "test_predictions = []\n",
    "\n",
    "#last n_input points from the training set\n",
    "first_eval_batch = scaled_train[-n_input:]\n",
    "# reshape this to the format RNN wants (same format as TimeseriesGenerator)\n",
    "current_batch = first_eval_batch.reshape((1,n_input,n_features))\n",
    "\n",
    "# how far into the future will be forecasted\n",
    "# len(test) --> time units into the future\n",
    "for i in range(12):\n",
    "    # one time step ahead of historical data\n",
    "    current_pred = model.predict(current_batch)[0]\n",
    "    \n",
    "    #store prediction\n",
    "    test_predictions.append(current_pred)\n",
    "    # update current batch to include the prediction\n",
    "    current_batch = np.append(current_batch[:,1:,:],[[current_pred]],axis=1)"
   ]
  },
  {
   "cell_type": "code",
   "execution_count": 89,
   "metadata": {},
   "outputs": [],
   "source": [
    "my_first_pred = model.predict(current_batch)[0]"
   ]
  },
  {
   "cell_type": "code",
   "execution_count": 90,
   "metadata": {},
   "outputs": [
    {
     "data": {
      "text/plain": [
       "array([0.6511137], dtype=float32)"
      ]
     },
     "execution_count": 90,
     "metadata": {},
     "output_type": "execute_result"
    }
   ],
   "source": [
    "my_first_pred"
   ]
  },
  {
   "cell_type": "code",
   "execution_count": 91,
   "metadata": {},
   "outputs": [
    {
     "data": {
      "text/plain": [
       "(1, 12, 1)"
      ]
     },
     "execution_count": 91,
     "metadata": {},
     "output_type": "execute_result"
    }
   ],
   "source": [
    "current_batch.shape"
   ]
  },
  {
   "cell_type": "code",
   "execution_count": 92,
   "metadata": {},
   "outputs": [
    {
     "data": {
      "text/plain": [
       "array([[[0.57893133],\n",
       "        [0.60049325],\n",
       "        [0.62131304],\n",
       "        [0.64188874],\n",
       "        [0.66205245],\n",
       "        [0.66504705],\n",
       "        [0.65444458],\n",
       "        [0.64183295],\n",
       "        [0.63858205],\n",
       "        [0.63841975],\n",
       "        [0.64535749],\n",
       "        [0.65111369]]])"
      ]
     },
     "execution_count": 92,
     "metadata": {},
     "output_type": "execute_result"
    }
   ],
   "source": [
    "np.append(current_batch[:,1:,:],[[my_first_pred]],axis=1)"
   ]
  },
  {
   "cell_type": "code",
   "execution_count": 93,
   "metadata": {},
   "outputs": [],
   "source": [
    "#hold predictions\n",
    "test_predictions = []\n",
    "\n",
    "#last n_input points from the training set\n",
    "first_eval_batch = scaled_train[-n_input:]\n",
    "# reshape this to the format RNN wants (same format as TimeseriesGenerator)\n",
    "current_batch = first_eval_batch.reshape((1,n_input,n_features))\n",
    "\n",
    "# how far into the future will be forecasted\n",
    "# len(test) --> time units into the future --> change test to number of units to test into future\n",
    "for i in range(12):\n",
    "    # one time step ahead of historical data\n",
    "    current_pred = model.predict(current_batch)[0]\n",
    "    \n",
    "    #store prediction\n",
    "    test_predictions.append(current_pred)\n",
    "    # update current batch to include the prediction\n",
    "    current_batch = np.append(current_batch[:,1:,:],[[current_pred]],axis=1)"
   ]
  },
  {
   "cell_type": "code",
   "execution_count": 94,
   "metadata": {},
   "outputs": [
    {
     "data": {
      "text/plain": [
       "[array([0.55772734], dtype=float32),\n",
       " array([0.57893133], dtype=float32),\n",
       " array([0.60049325], dtype=float32),\n",
       " array([0.62131304], dtype=float32),\n",
       " array([0.64188874], dtype=float32),\n",
       " array([0.66205245], dtype=float32),\n",
       " array([0.66504705], dtype=float32),\n",
       " array([0.6544446], dtype=float32),\n",
       " array([0.64183295], dtype=float32),\n",
       " array([0.63858205], dtype=float32),\n",
       " array([0.63841975], dtype=float32),\n",
       " array([0.6453575], dtype=float32)]"
      ]
     },
     "execution_count": 94,
     "metadata": {},
     "output_type": "execute_result"
    }
   ],
   "source": [
    "test_predictions"
   ]
  },
  {
   "cell_type": "code",
   "execution_count": 95,
   "metadata": {},
   "outputs": [],
   "source": [
    "true_predictions = scaler.inverse_transform(test_predictions)"
   ]
  },
  {
   "cell_type": "code",
   "execution_count": 96,
   "metadata": {},
   "outputs": [
    {
     "data": {
      "text/plain": [
       "array([[510.84688384],\n",
       "       [526.82740444],\n",
       "       [543.07767809],\n",
       "       [558.76863531],\n",
       "       [574.27563937],\n",
       "       [589.47214668],\n",
       "       [591.72904303],\n",
       "       [583.73842336],\n",
       "       [574.23359294],\n",
       "       [571.78353454],\n",
       "       [571.66121355],\n",
       "       [576.88988551]])"
      ]
     },
     "execution_count": 96,
     "metadata": {},
     "output_type": "execute_result"
    }
   ],
   "source": [
    "true_predictions"
   ]
  },
  {
   "cell_type": "code",
   "execution_count": 71,
   "metadata": {},
   "outputs": [
    {
     "data": {
      "text/plain": [
       "74"
      ]
     },
     "execution_count": 71,
     "metadata": {},
     "output_type": "execute_result"
    }
   ],
   "source": [
    "#model.save('first_btc_prediction.h5'\n",
    "#see lesson 85 for complete instructions on how to save and load model\n",
    "\n",
    "len(btc['Close**'])"
   ]
  },
  {
   "cell_type": "code",
   "execution_count": 97,
   "metadata": {},
   "outputs": [
    {
     "data": {
      "text/html": [
       "<div>\n",
       "<style>\n",
       "    .dataframe thead tr:only-child th {\n",
       "        text-align: right;\n",
       "    }\n",
       "\n",
       "    .dataframe thead th {\n",
       "        text-align: left;\n",
       "    }\n",
       "\n",
       "    .dataframe tbody tr th {\n",
       "        vertical-align: top;\n",
       "    }\n",
       "</style>\n",
       "<table border=\"1\" class=\"dataframe\">\n",
       "  <thead>\n",
       "    <tr style=\"text-align: right;\">\n",
       "      <th></th>\n",
       "      <th>Close**</th>\n",
       "    </tr>\n",
       "    <tr>\n",
       "      <th>Date</th>\n",
       "      <th></th>\n",
       "    </tr>\n",
       "  </thead>\n",
       "  <tbody>\n",
       "    <tr>\n",
       "      <th>2013-04-01</th>\n",
       "      <td>139.250000</td>\n",
       "    </tr>\n",
       "    <tr>\n",
       "      <th>2013-05-01</th>\n",
       "      <td>119.992581</td>\n",
       "    </tr>\n",
       "    <tr>\n",
       "      <th>2013-06-01</th>\n",
       "      <td>107.761333</td>\n",
       "    </tr>\n",
       "    <tr>\n",
       "      <th>2013-07-01</th>\n",
       "      <td>90.512258</td>\n",
       "    </tr>\n",
       "    <tr>\n",
       "      <th>2013-08-01</th>\n",
       "      <td>113.905161</td>\n",
       "    </tr>\n",
       "    <tr>\n",
       "      <th>2013-09-01</th>\n",
       "      <td>130.061667</td>\n",
       "    </tr>\n",
       "    <tr>\n",
       "      <th>2013-10-01</th>\n",
       "      <td>158.311935</td>\n",
       "    </tr>\n",
       "    <tr>\n",
       "      <th>2013-11-01</th>\n",
       "      <td>550.420667</td>\n",
       "    </tr>\n",
       "    <tr>\n",
       "      <th>2013-12-01</th>\n",
       "      <td>800.780968</td>\n",
       "    </tr>\n",
       "    <tr>\n",
       "      <th>2014-01-01</th>\n",
       "      <td>844.168387</td>\n",
       "    </tr>\n",
       "    <tr>\n",
       "      <th>2014-02-01</th>\n",
       "      <td>661.618214</td>\n",
       "    </tr>\n",
       "    <tr>\n",
       "      <th>2014-03-01</th>\n",
       "      <td>592.200323</td>\n",
       "    </tr>\n",
       "    <tr>\n",
       "      <th>2014-04-01</th>\n",
       "      <td>461.362667</td>\n",
       "    </tr>\n",
       "    <tr>\n",
       "      <th>2014-05-01</th>\n",
       "      <td>486.651290</td>\n",
       "    </tr>\n",
       "    <tr>\n",
       "      <th>2014-06-01</th>\n",
       "      <td>615.917000</td>\n",
       "    </tr>\n",
       "    <tr>\n",
       "      <th>2014-07-01</th>\n",
       "      <td>618.025161</td>\n",
       "    </tr>\n",
       "    <tr>\n",
       "      <th>2014-08-01</th>\n",
       "      <td>536.088065</td>\n",
       "    </tr>\n",
       "    <tr>\n",
       "      <th>2014-09-01</th>\n",
       "      <td>445.186000</td>\n",
       "    </tr>\n",
       "    <tr>\n",
       "      <th>2014-10-01</th>\n",
       "      <td>364.149355</td>\n",
       "    </tr>\n",
       "    <tr>\n",
       "      <th>2014-11-01</th>\n",
       "      <td>366.099667</td>\n",
       "    </tr>\n",
       "    <tr>\n",
       "      <th>2014-12-01</th>\n",
       "      <td>341.268065</td>\n",
       "    </tr>\n",
       "    <tr>\n",
       "      <th>2015-01-01</th>\n",
       "      <td>248.783226</td>\n",
       "    </tr>\n",
       "    <tr>\n",
       "      <th>2015-02-01</th>\n",
       "      <td>234.153214</td>\n",
       "    </tr>\n",
       "    <tr>\n",
       "      <th>2015-03-01</th>\n",
       "      <td>269.042258</td>\n",
       "    </tr>\n",
       "    <tr>\n",
       "      <th>2015-04-01</th>\n",
       "      <td>235.492000</td>\n",
       "    </tr>\n",
       "    <tr>\n",
       "      <th>2015-05-01</th>\n",
       "      <td>236.997097</td>\n",
       "    </tr>\n",
       "    <tr>\n",
       "      <th>2015-06-01</th>\n",
       "      <td>238.081000</td>\n",
       "    </tr>\n",
       "    <tr>\n",
       "      <th>2015-07-01</th>\n",
       "      <td>279.563548</td>\n",
       "    </tr>\n",
       "    <tr>\n",
       "      <th>2015-08-01</th>\n",
       "      <td>250.734194</td>\n",
       "    </tr>\n",
       "    <tr>\n",
       "      <th>2015-09-01</th>\n",
       "      <td>233.595667</td>\n",
       "    </tr>\n",
       "    <tr>\n",
       "      <th>...</th>\n",
       "      <td>...</td>\n",
       "    </tr>\n",
       "    <tr>\n",
       "      <th>2015-12-01</th>\n",
       "      <td>424.464194</td>\n",
       "    </tr>\n",
       "    <tr>\n",
       "      <th>2016-01-01</th>\n",
       "      <td>410.844839</td>\n",
       "    </tr>\n",
       "    <tr>\n",
       "      <th>2016-02-01</th>\n",
       "      <td>404.407931</td>\n",
       "    </tr>\n",
       "    <tr>\n",
       "      <th>2016-03-01</th>\n",
       "      <td>416.526452</td>\n",
       "    </tr>\n",
       "    <tr>\n",
       "      <th>2016-04-01</th>\n",
       "      <td>434.338333</td>\n",
       "    </tr>\n",
       "    <tr>\n",
       "      <th>2016-05-01</th>\n",
       "      <td>461.953871</td>\n",
       "    </tr>\n",
       "    <tr>\n",
       "      <th>2016-06-01</th>\n",
       "      <td>642.870333</td>\n",
       "    </tr>\n",
       "    <tr>\n",
       "      <th>2016-07-01</th>\n",
       "      <td>661.355806</td>\n",
       "    </tr>\n",
       "    <tr>\n",
       "      <th>2016-08-01</th>\n",
       "      <td>579.584839</td>\n",
       "    </tr>\n",
       "    <tr>\n",
       "      <th>2016-09-01</th>\n",
       "      <td>605.848333</td>\n",
       "    </tr>\n",
       "    <tr>\n",
       "      <th>2016-10-01</th>\n",
       "      <td>643.550000</td>\n",
       "    </tr>\n",
       "    <tr>\n",
       "      <th>2016-11-01</th>\n",
       "      <td>726.348667</td>\n",
       "    </tr>\n",
       "    <tr>\n",
       "      <th>2016-12-01</th>\n",
       "      <td>828.060000</td>\n",
       "    </tr>\n",
       "    <tr>\n",
       "      <th>2017-01-01</th>\n",
       "      <td>914.916452</td>\n",
       "    </tr>\n",
       "    <tr>\n",
       "      <th>2017-02-01</th>\n",
       "      <td>1062.533214</td>\n",
       "    </tr>\n",
       "    <tr>\n",
       "      <th>2017-03-01</th>\n",
       "      <td>1129.365161</td>\n",
       "    </tr>\n",
       "    <tr>\n",
       "      <th>2017-04-01</th>\n",
       "      <td>1206.641000</td>\n",
       "    </tr>\n",
       "    <tr>\n",
       "      <th>2017-05-01</th>\n",
       "      <td>1895.383548</td>\n",
       "    </tr>\n",
       "    <tr>\n",
       "      <th>2017-06-01</th>\n",
       "      <td>2636.204333</td>\n",
       "    </tr>\n",
       "    <tr>\n",
       "      <th>2017-07-01</th>\n",
       "      <td>2519.418387</td>\n",
       "    </tr>\n",
       "    <tr>\n",
       "      <th>2017-08-01</th>\n",
       "      <td>3880.990000</td>\n",
       "    </tr>\n",
       "    <tr>\n",
       "      <th>2017-09-01</th>\n",
       "      <td>4064.836333</td>\n",
       "    </tr>\n",
       "    <tr>\n",
       "      <th>2017-10-01</th>\n",
       "      <td>5360.071613</td>\n",
       "    </tr>\n",
       "    <tr>\n",
       "      <th>2017-11-01</th>\n",
       "      <td>7813.133000</td>\n",
       "    </tr>\n",
       "    <tr>\n",
       "      <th>2017-12-01</th>\n",
       "      <td>15294.270968</td>\n",
       "    </tr>\n",
       "    <tr>\n",
       "      <th>2018-01-01</th>\n",
       "      <td>13085.558065</td>\n",
       "    </tr>\n",
       "    <tr>\n",
       "      <th>2018-02-01</th>\n",
       "      <td>9472.001071</td>\n",
       "    </tr>\n",
       "    <tr>\n",
       "      <th>2018-03-01</th>\n",
       "      <td>9040.557097</td>\n",
       "    </tr>\n",
       "    <tr>\n",
       "      <th>2018-04-01</th>\n",
       "      <td>8033.596667</td>\n",
       "    </tr>\n",
       "    <tr>\n",
       "      <th>2018-05-01</th>\n",
       "      <td>8450.997742</td>\n",
       "    </tr>\n",
       "  </tbody>\n",
       "</table>\n",
       "<p>62 rows × 1 columns</p>\n",
       "</div>"
      ],
      "text/plain": [
       "                 Close**\n",
       "Date                    \n",
       "2013-04-01    139.250000\n",
       "2013-05-01    119.992581\n",
       "2013-06-01    107.761333\n",
       "2013-07-01     90.512258\n",
       "2013-08-01    113.905161\n",
       "2013-09-01    130.061667\n",
       "2013-10-01    158.311935\n",
       "2013-11-01    550.420667\n",
       "2013-12-01    800.780968\n",
       "2014-01-01    844.168387\n",
       "2014-02-01    661.618214\n",
       "2014-03-01    592.200323\n",
       "2014-04-01    461.362667\n",
       "2014-05-01    486.651290\n",
       "2014-06-01    615.917000\n",
       "2014-07-01    618.025161\n",
       "2014-08-01    536.088065\n",
       "2014-09-01    445.186000\n",
       "2014-10-01    364.149355\n",
       "2014-11-01    366.099667\n",
       "2014-12-01    341.268065\n",
       "2015-01-01    248.783226\n",
       "2015-02-01    234.153214\n",
       "2015-03-01    269.042258\n",
       "2015-04-01    235.492000\n",
       "2015-05-01    236.997097\n",
       "2015-06-01    238.081000\n",
       "2015-07-01    279.563548\n",
       "2015-08-01    250.734194\n",
       "2015-09-01    233.595667\n",
       "...                  ...\n",
       "2015-12-01    424.464194\n",
       "2016-01-01    410.844839\n",
       "2016-02-01    404.407931\n",
       "2016-03-01    416.526452\n",
       "2016-04-01    434.338333\n",
       "2016-05-01    461.953871\n",
       "2016-06-01    642.870333\n",
       "2016-07-01    661.355806\n",
       "2016-08-01    579.584839\n",
       "2016-09-01    605.848333\n",
       "2016-10-01    643.550000\n",
       "2016-11-01    726.348667\n",
       "2016-12-01    828.060000\n",
       "2017-01-01    914.916452\n",
       "2017-02-01   1062.533214\n",
       "2017-03-01   1129.365161\n",
       "2017-04-01   1206.641000\n",
       "2017-05-01   1895.383548\n",
       "2017-06-01   2636.204333\n",
       "2017-07-01   2519.418387\n",
       "2017-08-01   3880.990000\n",
       "2017-09-01   4064.836333\n",
       "2017-10-01   5360.071613\n",
       "2017-11-01   7813.133000\n",
       "2017-12-01  15294.270968\n",
       "2018-01-01  13085.558065\n",
       "2018-02-01   9472.001071\n",
       "2018-03-01   9040.557097\n",
       "2018-04-01   8033.596667\n",
       "2018-05-01   8450.997742\n",
       "\n",
       "[62 rows x 1 columns]"
      ]
     },
     "execution_count": 97,
     "metadata": {},
     "output_type": "execute_result"
    }
   ],
   "source": [
    "btc[:-12]"
   ]
  },
  {
   "cell_type": "code",
   "execution_count": null,
   "metadata": {},
   "outputs": [],
   "source": []
  }
 ],
 "metadata": {
  "kernelspec": {
   "display_name": "Python 3",
   "language": "python",
   "name": "python3"
  },
  "language_info": {
   "codemirror_mode": {
    "name": "ipython",
    "version": 3
   },
   "file_extension": ".py",
   "mimetype": "text/x-python",
   "name": "python",
   "nbconvert_exporter": "python",
   "pygments_lexer": "ipython3",
   "version": "3.6.3"
  }
 },
 "nbformat": 4,
 "nbformat_minor": 2
}
