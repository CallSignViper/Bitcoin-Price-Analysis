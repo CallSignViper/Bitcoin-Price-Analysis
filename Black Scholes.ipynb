{
 "cells": [
  {
   "cell_type": "markdown",
   "metadata": {},
   "source": [
    "Calculate the Price of a Call Option"
   ]
  },
  {
   "cell_type": "code",
   "execution_count": null,
   "metadata": {},
   "outputs": [],
   "source": [
    "\"\"\"\n",
    "S = underlying price\n",
    "K = strike price\n",
    "r = risk free rate\n",
    "stdev = standard deviation\n",
    "T = time horizon (years)\n",
    "\"\"\""
   ]
  },
  {
   "cell_type": "code",
   "execution_count": 1,
   "metadata": {},
   "outputs": [],
   "source": [
    "import pandas as pd\n",
    "import numpy as np\n",
    "from scipy.stats import norm"
   ]
  },
  {
   "cell_type": "code",
   "execution_count": 2,
   "metadata": {},
   "outputs": [],
   "source": [
    "btc = pd.read_html('https://coinmarketcap.com/currencies/bitcoin/historical-data/?start=20130428&end=20190904')\n",
    "btc = btc[0]\n",
    "dates = btc['Date']\n",
    "dates = pd.to_datetime(dates)\n",
    "btc.drop(labels='Date',axis=1,inplace=True)\n",
    "btc['Date'] = dates\n",
    "btc = btc.sort_values(by='Date',axis=0,ascending=True)"
   ]
  },
  {
   "cell_type": "code",
   "execution_count": 3,
   "metadata": {},
   "outputs": [],
   "source": [
    "def d1(S,K,r,stdev,T):\n",
    "    return(np.log(S/K) + (r + stdev **2 / 2 * T) / (stdev * np.sqrt(T)))\n",
    "\n",
    "def d2(S, K, r, stdev, T):\n",
    "    return(np.log(S / K) + (r - stdev ** 2/2) * T) / (stdev * np.sqrt(T))"
   ]
  },
  {
   "cell_type": "code",
   "execution_count": 4,
   "metadata": {},
   "outputs": [
    {
     "data": {
      "text/plain": [
       "0.5"
      ]
     },
     "execution_count": 4,
     "metadata": {},
     "output_type": "execute_result"
    }
   ],
   "source": [
    "norm.cdf(0)"
   ]
  },
  {
   "cell_type": "code",
   "execution_count": 5,
   "metadata": {},
   "outputs": [
    {
     "data": {
      "text/plain": [
       "0.5987063256829237"
      ]
     },
     "execution_count": 5,
     "metadata": {},
     "output_type": "execute_result"
    }
   ],
   "source": [
    "norm.cdf(.25)"
   ]
  },
  {
   "cell_type": "code",
   "execution_count": 6,
   "metadata": {},
   "outputs": [
    {
     "data": {
      "text/plain": [
       "0.7733726476231317"
      ]
     },
     "execution_count": 6,
     "metadata": {},
     "output_type": "execute_result"
    }
   ],
   "source": [
    "norm.cdf(.75)"
   ]
  },
  {
   "cell_type": "code",
   "execution_count": 7,
   "metadata": {},
   "outputs": [
    {
     "data": {
      "text/plain": [
       "1.0"
      ]
     },
     "execution_count": 7,
     "metadata": {},
     "output_type": "execute_result"
    }
   ],
   "source": [
    "norm.cdf(9)"
   ]
  },
  {
   "cell_type": "code",
   "execution_count": 8,
   "metadata": {},
   "outputs": [],
   "source": [
    "def Black_Scholes_Merton(S,K,r,stdev,T):\n",
    "    return(S * norm.cdf(d1(S,K,r,stdev,T))) - (K * np.exp(-r * T) * norm.cdf(d2(S,K,r,stdev, T)))"
   ]
  },
  {
   "cell_type": "code",
   "execution_count": 19,
   "metadata": {},
   "outputs": [
    {
     "data": {
      "text/plain": [
       "10594.49"
      ]
     },
     "execution_count": 19,
     "metadata": {},
     "output_type": "execute_result"
    }
   ],
   "source": [
    "S = btc['Close**']\n",
    "S.iloc[-1]"
   ]
  },
  {
   "cell_type": "code",
   "execution_count": 12,
   "metadata": {},
   "outputs": [],
   "source": [
    "log_returns = np.log(1 + btc['Close**'].pct_change())"
   ]
  },
  {
   "cell_type": "code",
   "execution_count": 13,
   "metadata": {},
   "outputs": [
    {
     "data": {
      "text/plain": [
       "0.6842985211299355"
      ]
     },
     "execution_count": 13,
     "metadata": {},
     "output_type": "execute_result"
    }
   ],
   "source": [
    "stdev = log_returns.std() * 250 **.5\n",
    "stdev"
   ]
  },
  {
   "cell_type": "code",
   "execution_count": 29,
   "metadata": {},
   "outputs": [],
   "source": [
    "r=.225\n",
    "K=11000\n",
    "T = .1"
   ]
  },
  {
   "cell_type": "code",
   "execution_count": 30,
   "metadata": {},
   "outputs": [
    {
     "data": {
      "text/plain": [
       "2320   -3.735292\n",
       "2319   -3.661141\n",
       "2318   -3.700223\n",
       "2317   -3.872609\n",
       "2316   -3.978739\n",
       "2315   -4.052284\n",
       "2314   -3.911744\n",
       "2313   -3.881883\n",
       "2312   -3.913524\n",
       "2311   -3.920673\n",
       "2310   -3.902278\n",
       "2309   -3.910234\n",
       "2308   -3.870816\n",
       "2307   -3.887681\n",
       "2306   -3.889765\n",
       "2305   -3.864182\n",
       "2304   -3.920673\n",
       "2303   -3.896571\n",
       "2302   -3.857593\n",
       "2301   -3.822432\n",
       "2300   -3.818456\n",
       "2299   -3.830758\n",
       "2298   -3.830676\n",
       "2297   -3.823489\n",
       "2296   -3.815303\n",
       "2295   -3.792875\n",
       "2294   -3.742846\n",
       "2293   -3.752047\n",
       "2292   -3.740746\n",
       "2291   -3.769165\n",
       "          ...   \n",
       "29      0.713505\n",
       "28      0.753117\n",
       "27      0.755161\n",
       "26      0.746477\n",
       "25      0.702630\n",
       "24      0.717453\n",
       "23      0.705145\n",
       "22      0.661438\n",
       "21      0.580800\n",
       "20      0.606322\n",
       "19      0.612393\n",
       "18      0.598553\n",
       "17      0.609639\n",
       "16      0.663292\n",
       "15      0.649194\n",
       "14      0.589354\n",
       "13      0.588664\n",
       "12      0.615630\n",
       "11      0.591512\n",
       "10      0.589400\n",
       "9       0.612054\n",
       "8       0.594023\n",
       "7       0.550778\n",
       "6       0.525423\n",
       "5       0.534630\n",
       "4       0.538010\n",
       "3       0.551142\n",
       "2       0.609731\n",
       "1       0.636130\n",
       "0       0.633392\n",
       "Name: Close**, Length: 2321, dtype: float64"
      ]
     },
     "execution_count": 30,
     "metadata": {},
     "output_type": "execute_result"
    }
   ],
   "source": [
    "d1(S,K,r,stdev,T)"
   ]
  },
  {
   "cell_type": "code",
   "execution_count": 22,
   "metadata": {},
   "outputs": [
    {
     "data": {
      "text/plain": [
       "2320   -11.602474\n",
       "2319   -11.385754\n",
       "2318   -11.499980\n",
       "2317   -12.003811\n",
       "2316   -12.313998\n",
       "2315   -12.528948\n",
       "2314   -12.118192\n",
       "2313   -12.030918\n",
       "2312   -12.123392\n",
       "2311   -12.144288\n",
       "2310   -12.090525\n",
       "2309   -12.113779\n",
       "2308   -11.998570\n",
       "2307   -12.047861\n",
       "2306   -12.053954\n",
       "2305   -11.979183\n",
       "2304   -12.144288\n",
       "2303   -12.073845\n",
       "2302   -11.959923\n",
       "2301   -11.857158\n",
       "2300   -11.845539\n",
       "2299   -11.881494\n",
       "2298   -11.881255\n",
       "2297   -11.860249\n",
       "2296   -11.836324\n",
       "2295   -11.770774\n",
       "2294   -11.624552\n",
       "2293   -11.651445\n",
       "2292   -11.618415\n",
       "2291   -11.701475\n",
       "          ...    \n",
       "29       1.400028\n",
       "28       1.515803\n",
       "27       1.521778\n",
       "26       1.496396\n",
       "25       1.368244\n",
       "24       1.411568\n",
       "23       1.375596\n",
       "22       1.247853\n",
       "21       1.012171\n",
       "20       1.086766\n",
       "19       1.104510\n",
       "18       1.064057\n",
       "17       1.096461\n",
       "16       1.253271\n",
       "15       1.212066\n",
       "14       1.037171\n",
       "13       1.035155\n",
       "12       1.113969\n",
       "11       1.043481\n",
       "10       1.037307\n",
       "9        1.103518\n",
       "8        1.050819\n",
       "7        0.924427\n",
       "6        0.850321\n",
       "5        0.877232\n",
       "4        0.887108\n",
       "3        0.925491\n",
       "2        1.096729\n",
       "1        1.173885\n",
       "0        1.165882\n",
       "Name: Close**, Length: 2321, dtype: float64"
      ]
     },
     "execution_count": 22,
     "metadata": {},
     "output_type": "execute_result"
    }
   ],
   "source": [
    "d2(S,K,r,stdev,T)"
   ]
  },
  {
   "cell_type": "code",
   "execution_count": 31,
   "metadata": {},
   "outputs": [
    {
     "data": {
      "text/plain": [
       "2320       0.012582\n",
       "2319       0.018146\n",
       "2318       0.014970\n",
       "2317       0.006298\n",
       "2316       0.003645\n",
       "2315       0.002479\n",
       "2314       0.005154\n",
       "2313       0.006007\n",
       "2312       0.005107\n",
       "2311       0.004923\n",
       "2310       0.005411\n",
       "2309       0.005194\n",
       "2308       0.006356\n",
       "2307       0.005831\n",
       "2306       0.005770\n",
       "2305       0.006575\n",
       "2304       0.004923\n",
       "2303       0.005572\n",
       "2302       0.006799\n",
       "2301       0.008127\n",
       "2300       0.008292\n",
       "2299       0.007792\n",
       "2298       0.007795\n",
       "2297       0.008084\n",
       "2296       0.008425\n",
       "2295       0.009433\n",
       "2294       0.012117\n",
       "2293       0.011574\n",
       "2292       0.012245\n",
       "2291       0.010625\n",
       "           ...     \n",
       "29      4186.136429\n",
       "28      4481.675684\n",
       "27      4497.535973\n",
       "26      4430.583768\n",
       "25      4108.810214\n",
       "24      4214.610050\n",
       "23      4126.555829\n",
       "22      3830.122455\n",
       "21      3345.119457\n",
       "20      3490.416608\n",
       "19      3526.064614\n",
       "18      3445.407510\n",
       "17      3509.841298\n",
       "16      3842.195930\n",
       "15      3751.467854\n",
       "14      3393.003191\n",
       "13      3389.112192\n",
       "12      3545.243243\n",
       "11      3405.216346\n",
       "10      3393.264911\n",
       "9       3524.060672\n",
       "8       3419.485277\n",
       "7       3183.330511\n",
       "6       3053.990271\n",
       "5       3100.207127\n",
       "4       3117.382572\n",
       "3       3185.234424\n",
       "2       3510.380814\n",
       "1       3669.592471\n",
       "0       3652.693280\n",
       "Name: Close**, Length: 2321, dtype: float64"
      ]
     },
     "execution_count": 31,
     "metadata": {},
     "output_type": "execute_result"
    }
   ],
   "source": [
    "Black_Scholes_Merton(S,K,r,stdev,T)"
   ]
  },
  {
   "cell_type": "code",
   "execution_count": null,
   "metadata": {},
   "outputs": [],
   "source": []
  },
  {
   "cell_type": "code",
   "execution_count": null,
   "metadata": {},
   "outputs": [],
   "source": []
  }
 ],
 "metadata": {
  "kernelspec": {
   "display_name": "Python 3",
   "language": "python",
   "name": "python3"
  },
  "language_info": {
   "codemirror_mode": {
    "name": "ipython",
    "version": 3
   },
   "file_extension": ".py",
   "mimetype": "text/x-python",
   "name": "python",
   "nbconvert_exporter": "python",
   "pygments_lexer": "ipython3",
   "version": "3.6.3"
  }
 },
 "nbformat": 4,
 "nbformat_minor": 2
}
