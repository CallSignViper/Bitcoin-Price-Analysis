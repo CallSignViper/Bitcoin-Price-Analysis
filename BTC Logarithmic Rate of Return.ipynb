{
 "cells": [
  {
   "cell_type": "code",
   "execution_count": 1,
   "metadata": {},
   "outputs": [],
   "source": [
    "import pandas as pd\n",
    "import numpy as np\n",
    "import matplotlib.pyplot as plt\n",
    "%matplotlib inline"
   ]
  },
  {
   "cell_type": "code",
   "execution_count": 2,
   "metadata": {},
   "outputs": [
    {
     "data": {
      "text/html": [
       "<div>\n",
       "<style>\n",
       "    .dataframe thead tr:only-child th {\n",
       "        text-align: right;\n",
       "    }\n",
       "\n",
       "    .dataframe thead th {\n",
       "        text-align: left;\n",
       "    }\n",
       "\n",
       "    .dataframe tbody tr th {\n",
       "        vertical-align: top;\n",
       "    }\n",
       "</style>\n",
       "<table border=\"1\" class=\"dataframe\">\n",
       "  <thead>\n",
       "    <tr style=\"text-align: right;\">\n",
       "      <th></th>\n",
       "      <th>Open*</th>\n",
       "      <th>High</th>\n",
       "      <th>Low</th>\n",
       "      <th>Close**</th>\n",
       "      <th>Volume</th>\n",
       "      <th>Market Cap</th>\n",
       "      <th>Date</th>\n",
       "    </tr>\n",
       "  </thead>\n",
       "  <tbody>\n",
       "    <tr>\n",
       "      <th>0</th>\n",
       "      <td>9756.79</td>\n",
       "      <td>9756.79</td>\n",
       "      <td>9421.63</td>\n",
       "      <td>9510.20</td>\n",
       "      <td>17045878501</td>\n",
       "      <td>170274910132</td>\n",
       "      <td>2019-08-29</td>\n",
       "    </tr>\n",
       "    <tr>\n",
       "      <th>1</th>\n",
       "      <td>10203.43</td>\n",
       "      <td>10279.37</td>\n",
       "      <td>9716.66</td>\n",
       "      <td>9754.42</td>\n",
       "      <td>17603790323</td>\n",
       "      <td>174627460400</td>\n",
       "      <td>2019-08-28</td>\n",
       "    </tr>\n",
       "    <tr>\n",
       "      <th>2</th>\n",
       "      <td>10372.83</td>\n",
       "      <td>10381.33</td>\n",
       "      <td>10087.30</td>\n",
       "      <td>10185.50</td>\n",
       "      <td>14762609503</td>\n",
       "      <td>182325540955</td>\n",
       "      <td>2019-08-27</td>\n",
       "    </tr>\n",
       "    <tr>\n",
       "      <th>3</th>\n",
       "      <td>10126.30</td>\n",
       "      <td>10512.33</td>\n",
       "      <td>10126.30</td>\n",
       "      <td>10370.82</td>\n",
       "      <td>18438654080</td>\n",
       "      <td>185625235889</td>\n",
       "      <td>2019-08-26</td>\n",
       "    </tr>\n",
       "    <tr>\n",
       "      <th>4</th>\n",
       "      <td>10160.74</td>\n",
       "      <td>10304.62</td>\n",
       "      <td>10008.79</td>\n",
       "      <td>10138.52</td>\n",
       "      <td>14153856610</td>\n",
       "      <td>181450186164</td>\n",
       "      <td>2019-08-25</td>\n",
       "    </tr>\n",
       "  </tbody>\n",
       "</table>\n",
       "</div>"
      ],
      "text/plain": [
       "      Open*      High       Low   Close**       Volume    Market Cap  \\\n",
       "0   9756.79   9756.79   9421.63   9510.20  17045878501  170274910132   \n",
       "1  10203.43  10279.37   9716.66   9754.42  17603790323  174627460400   \n",
       "2  10372.83  10381.33  10087.30  10185.50  14762609503  182325540955   \n",
       "3  10126.30  10512.33  10126.30  10370.82  18438654080  185625235889   \n",
       "4  10160.74  10304.62  10008.79  10138.52  14153856610  181450186164   \n",
       "\n",
       "        Date  \n",
       "0 2019-08-29  \n",
       "1 2019-08-28  \n",
       "2 2019-08-27  \n",
       "3 2019-08-26  \n",
       "4 2019-08-25  "
      ]
     },
     "execution_count": 2,
     "metadata": {},
     "output_type": "execute_result"
    }
   ],
   "source": [
    "#https://coinmarketcap.com/currencies/bitcoin/historical-data/?start=20130428&end=20190830\n",
    "btc = pd.read_html('https://coinmarketcap.com/currencies/bitcoin/historical-data/?start=20130428&end=20190830')\n",
    "btc = btc[0]\n",
    "dates = btc['Date']\n",
    "dates = pd.to_datetime(dates)\n",
    "btc.drop(labels='Date',axis=1,inplace=True)\n",
    "btc['Date'] = dates\n",
    "btc = btc.sort_values(by='Date',axis=0,ascending=True)\n",
    "btc.head()"
   ]
  },
  {
   "cell_type": "code",
   "execution_count": 8,
   "metadata": {},
   "outputs": [],
   "source": [
    "btc['Log Return'] = np.log(btc['Close**']/btc['Close**'].shift(1))"
   ]
  },
  {
   "cell_type": "code",
   "execution_count": 11,
   "metadata": {},
   "outputs": [
    {
     "data": {
      "image/png": "[encoded data removed]",
      "text/plain": [
       "<matplotlib.figure.Figure at 0x1f634727cf8>"
      ]
     },
     "metadata": {},
     "output_type": "display_data"
    }
   ],
   "source": [
    "btc['Log Return'].plot(figsize=(8,5))\n",
    "plt.show()"
   ]
  },
  {
   "cell_type": "code",
   "execution_count": 13,
   "metadata": {},
   "outputs": [
    {
     "data": {
      "text/plain": [
       "0.0018412767711334492"
      ]
     },
     "execution_count": 13,
     "metadata": {},
     "output_type": "execute_result"
    }
   ],
   "source": [
    "log_return_d = btc['Log Return'].mean()\n",
    "log_return_d"
   ]
  },
  {
   "cell_type": "code",
   "execution_count": 14,
   "metadata": {},
   "outputs": [
    {
     "data": {
      "text/plain": [
       "0.4603191927833623"
      ]
     },
     "execution_count": 14,
     "metadata": {},
     "output_type": "execute_result"
    }
   ],
   "source": [
    "log_return_a = btc['Log Return'].mean() * 250\n",
    "log_return_a"
   ]
  },
  {
   "cell_type": "code",
   "execution_count": 17,
   "metadata": {},
   "outputs": [
    {
     "name": "stdout",
     "output_type": "stream",
     "text": [
      "46.0 %\n"
     ]
    }
   ],
   "source": [
    "print(str(round(log_return_a,3) * 100)+' %')"
   ]
  },
  {
   "cell_type": "code",
   "execution_count": null,
   "metadata": {},
   "outputs": [],
   "source": []
  }
 ],
 "metadata": {
  "kernelspec": {
   "display_name": "Python 3",
   "language": "python",
   "name": "python3"
  },
  "language_info": {
   "codemirror_mode": {
    "name": "ipython",
    "version": 3
   },
   "file_extension": ".py",
   "mimetype": "text/x-python",
   "name": "python",
   "nbconvert_exporter": "python",
   "pygments_lexer": "ipython3",
   "version": "3.6.3"
  }
 },
 "nbformat": 4,
 "nbformat_minor": 2
}
